{
 "cells": [
  {
   "cell_type": "markdown",
   "id": "93ffe3cd",
   "metadata": {},
   "source": [
    "# Lab1 (5IR - 2024): Human Activity Recognition (HAR) - Supervised learning\n",
    "\n",
    "**Group name:**  A1\n",
    "\n",
    "**Names:** MOULIN  JEAN-BAPTISTE\n",
    "\n",
    "**First names:** Romain Aude\n",
    "\n",
    "\n",
    "\n",
    "In this project, we will try to predict 8 different human activities: \n",
    "\n",
    "1-Recumbent, 2-Sitting, 3-Standing, 4-Walking, 5-Biking, 6-Nordic Walking, 7-Cleaning_Aspirator or 8-Repassing \n",
    "\n",
    "using different sensors (accelerometer, gyroscope, magnetometer or temperature) placed at different points on the body (hand, torso and ankle).\n",
    "\n",
    "\n",
    "For the accelerometer, gyroscope and magnetometer sensors, measurements in $ms^{-2}$, $rad/s$ and $\\mu T$ respectively are taken on the 3-axes at a sampling rate of 100Hz. Each measurement is labeled.\n",
    "\n",
    "<img src=\"HARDataset.JPG\" width=\"800\" height=\"600\" >\n",
    "\n",
    "For each sensor and position, a matrix of the measurements collected is provided, along with the activity label (i.e. the ground truth). \n",
    "\n",
    "This tutorial is divided into 3 parts:\n",
    "- Part I: Implementing DTW to create a k-NN recognition system;\n",
    "- Part II: Dimension reduction using PCA and classification using neural networks;\n",
    "- Part III: (Bonus) Dimension reduction using k-medoids for DTW + k-NN."
   ]
  },
  {
   "cell_type": "code",
   "execution_count": 1,
   "id": "5e2aa238",
   "metadata": {},
   "outputs": [],
   "source": [
    "import matplotlib.pyplot as plt\n",
    "import numpy as np\n",
    "import sklearn\n",
    "import pandas as pd\n",
    "import math\n",
    "from scipy import stats\n",
    "import seaborn as sns\n",
    "from sklearn import neighbors"
   ]
  },
  {
   "cell_type": "markdown",
   "id": "ad5c110d",
   "metadata": {},
   "source": [
    "# Loading training and test data"
   ]
  },
  {
   "cell_type": "markdown",
   "id": "f9c3866f",
   "metadata": {},
   "source": []
  },
  {
   "cell_type": "code",
   "execution_count": 2,
   "id": "4d843c61",
   "metadata": {},
   "outputs": [],
   "source": [
    "def smooth_signal(X, k):\n",
    "    for i in range(len(X)):\n",
    "        Xi = X[i]\n",
    "        downsample=math.ceil(len(Xi)/k)\n",
    "        for j in range(downsample):\n",
    "            Xj = Xi[j*k:min((j+1)*k, len(Xi)),:]\n",
    "            X[i,j] = np.mean(Xj, axis=0)\n",
    "    X = X[:,:downsample,:]\n",
    "    return X"
   ]
  },
  {
   "cell_type": "code",
   "execution_count": 3,
   "id": "3ecf44f8",
   "metadata": {},
   "outputs": [
    {
     "data": {
      "image/png": "[encoded data removed]",
      "text/plain": [
       "<Figure size 640x480 with 1 Axes>"
      ]
     },
     "metadata": {},
     "output_type": "display_data"
    }
   ],
   "source": [
    "# Data loading\n",
    "\n",
    "# Sensors part (Accelerometer, Gyroscope and Magnetometer) placed on the Hand \n",
    "# (do the same for the 2 other sensor positions: torso and ankle)\n",
    "fh1=np.load('DataHandAcc.npz')\n",
    "DataHandAcc=fh1['DataHandAcc']\n",
    "DataHandAcc= smooth_signal(DataHandAcc,5)\n",
    "fh2=np.load('DataHandGyro.npz')\n",
    "DataHandGyro=fh2['DataHandGyro']\n",
    "DataHandGyro= smooth_signal(DataHandGyro,5)\n",
    "fh3=np.load('DataHandMagneto.npz')\n",
    "DataHandMagneto=fh3['DataHandMagneto']\n",
    "DataHandMagneto= smooth_signal(DataHandMagneto,5)\n",
    "# TODO\n",
    "# ADD HERE the loading of the other sensors\n",
    "ft1=np.load('DataChestAcc.npz')\n",
    "DataTorsoAcc=ft1['DataChestAcc']\n",
    "DataTorsoAcc= smooth_signal(DataTorsoAcc,5)\n",
    "ft2=np.load('DataChestGyro.npz')\n",
    "DataTorsoGyro=ft2['DataChestGyro']\n",
    "DataTorsoGyro= smooth_signal(DataTorsoGyro,5)\n",
    "ft3=np.load('DataChestMagneto.npz')\n",
    "DataTorsoMagneto=ft3['DataChestMagneto']\n",
    "DataTorsoMagneto= smooth_signal(DataTorsoMagneto,5)\n",
    "\n",
    "fa1=np.load('DataAnkleAcc.npz')\n",
    "DataAnkleAcc=fa1['DataAnkleAcc']\n",
    "DataAnkleAcc= smooth_signal(DataAnkleAcc,5)\n",
    "fa2=np.load('DataAnkleGyro.npz')\n",
    "DataAnkleGyro=fa2['DataAnkleGyro']\n",
    "DataAnkleGyro= smooth_signal(DataAnkleGyro,5)\n",
    "fa3=np.load('DataAnkleMagneto.npz')\n",
    "DataAnkleMagneto=fa3['DataAnkleMagneto']\n",
    "DataAnkleMagneto= smooth_signal(DataAnkleMagneto,5)\n",
    "\n",
    "# Loading the ground truth: labels\n",
    "fl=np.load('labels.npz')\n",
    "labels=fl['labels']\n",
    "\n",
    "# Repartition of data by class\n",
    "plt.hist(labels,bins=16)\n",
    "plt.xlabel('Differentes activites')\n",
    "plt.ylabel('Nombre de donnees')\n",
    "plt.show()\n",
    "\n"
   ]
  },
  {
   "cell_type": "code",
   "execution_count": 4,
   "id": "107d7b03",
   "metadata": {},
   "outputs": [],
   "source": [
    "# Separation of data into training and test databases\n",
    "from sklearn.model_selection import train_test_split\n",
    "\n",
    "listeData=[*range(labels.shape[0])] \n",
    "Liste_Base_train, Liste_Base_test, y_train, y_test = train_test_split(listeData,labels, test_size=0.20, random_state=42)\n",
    "\n"
   ]
  },
  {
   "cell_type": "markdown",
   "id": "59938594",
   "metadata": {},
   "source": [
    "# Part I-a: Implementing the dynamic programming algorithm \n",
    "\n",
    "1. Write a function in DTW python that implements the calculation. Implement it such that\n",
    "- the local distance used is a parameter which is a callable function with 2 inputs and 1 output: e.g. euclidian distance(a, b)\n",
    "- local distances can be computed with any type of input local data: e.g. (a,b)=('A','T'), (a,b)=(12,22), (a,b)=( (1,2,3), (4,5,6) )."
   ]
  },
  {
   "cell_type": "code",
   "execution_count": 5,
   "id": "70d7321c",
   "metadata": {},
   "outputs": [],
   "source": [
    "\n",
    "def dtw(local_distance, datas_a:list, datas_b:list, contraintes:list, test=False): # contraintes : liste des contraintes. globale en dernier \n",
    "                                                                # si test à vrai, on retourne la matrice de poids \n",
    "    n=len(datas_a)\n",
    "    m=len(datas_b)\n",
    "    w0,w1,w2,global_cons=contraintes\n",
    "    tab_dtw=np.zeros((n+1,m+1))\n",
    "    tab_dtw[0,0]=0\n",
    "    for j in range(1, m+1):\n",
    "        tab_dtw[0,j] = np.inf\n",
    "    for i in range(1, n+1): \n",
    "        tab_dtw[i,0] = np.inf\n",
    "        for j in range(1, m+1):\n",
    "            if abs(i-j) >= global_cons:\n",
    "                tab_dtw[i,j]=np.inf\n",
    "                continue\n",
    "            local_d=local_distance(datas_a[i-1],datas_b[j-1])\n",
    "            x=tab_dtw[i-1,j]+w0*local_d\n",
    "            y=tab_dtw[i-1,j-1]+w1*local_d\n",
    "            z=tab_dtw[i,j-1]+w2*local_d\n",
    "            tab_dtw[i,j]=min(x,y,z)\n",
    "    alignement_score=tab_dtw[n,m]/(n+m)\n",
    "    if test:\n",
    "        return(alignement_score,tab_dtw)\n",
    "    else:\n",
    "        return alignement_score"
   ]
  },
  {
   "cell_type": "code",
   "execution_count": 6,
   "id": "bbe6dd3a",
   "metadata": {},
   "outputs": [
    {
     "name": "stdout",
     "output_type": "stream",
     "text": [
      "0.16666666666666666\n",
      "[[ 0. inf inf inf inf inf inf inf inf inf inf]\n",
      " [inf  0.  1.  2.  3. inf inf inf inf inf inf]\n",
      " [inf  0.  1.  2.  3.  4. inf inf inf inf inf]\n",
      " [inf  1.  1.  1.  1.  2.  3. inf inf inf inf]\n",
      " [inf  2.  1.  2.  2.  1.  2.  3. inf inf inf]\n",
      " [inf inf  2.  2.  3.  2.  1.  2.  3. inf inf]\n",
      " [inf inf inf  2.  2.  3.  2.  2.  2.  3. inf]\n",
      " [inf inf inf inf  2.  3.  3.  3.  2.  3.  4.]\n",
      " [inf inf inf inf inf  3.  4.  3.  3.  3.  3.]]\n"
     ]
    }
   ],
   "source": [
    "#Test sur les séquences d'ADN \n",
    "\n",
    "def local_dist(a,b):\n",
    "    return(0 if a==b else 1)\n",
    "\n",
    "data_b = \"ATGGTACGTC\"\n",
    "data_a = \"AAGTAGGC\"\n",
    "\n",
    "contrainte = [1,1,1,4]\n",
    "\n",
    "score, matrix = dtw(local_dist,data_a,data_b,contrainte,test=True)\n",
    "print(score)\n",
    "print(matrix)"
   ]
  },
  {
   "cell_type": "code",
   "execution_count": 7,
   "metadata": {},
   "outputs": [
    {
     "name": "stdout",
     "output_type": "stream",
     "text": [
      "0.4\n",
      "[[ 0. inf inf inf]\n",
      " [inf  1.  2. inf]\n",
      " [inf  4.  6.  2.]]\n"
     ]
    }
   ],
   "source": [
    "#Test donné en TP (vecteur 1D)\n",
    "\n",
    "def local_dist(a,b):\n",
    "    return(abs(a-b))\n",
    "\n",
    "data_a=[5,1]\n",
    "data_b=[4,6,1]\n",
    "\n",
    "contrainte = [1,1,1,2]\n",
    "\n",
    "score, matrix = dtw(local_dist,data_a,data_b,contrainte,test=True)\n",
    "print(score)\n",
    "print(matrix)"
   ]
  },
  {
   "cell_type": "code",
   "execution_count": 8,
   "id": "085b11fa",
   "metadata": {},
   "outputs": [
    {
     "name": "stdout",
     "output_type": "stream",
     "text": [
      "0.75\n",
      "[[ 0. inf inf]\n",
      " [inf  2.  4.]\n",
      " [inf  3.  3.]]\n"
     ]
    }
   ],
   "source": [
    "#Test donné en TP (vecteur 2D)\n",
    "\n",
    "def local_dist(a,b):\n",
    "    res=0\n",
    "    for i in range(len(a)):\n",
    "        res+=abs(a[i]-b[i])\n",
    "    return res\n",
    "\n",
    "data_a=[(1,3),(2,1)]\n",
    "data_b=[(1,1),(2,2)]\n",
    "\n",
    "contrainte = [1,1,1,4]\n",
    "\n",
    "score, matrix = dtw(local_dist,data_a,data_b,contrainte,test=True)\n",
    "print(score)\n",
    "print(matrix)"
   ]
  },
  {
   "cell_type": "markdown",
   "id": "3529048f",
   "metadata": {},
   "source": [
    "2. Test your methods on the examples given in class."
   ]
  },
  {
   "cell_type": "markdown",
   "id": "6d8f68d7",
   "metadata": {},
   "source": [
    "# Part I-b: DTW human activity recognition system\n",
    "\n",
    "For each test time profile :\n",
    "\n",
    "a) For each class, compute the DTW score between the test temporal profile and the temporal profiles of the class. Test with data from only one sensor then include them all if possible.\n",
    "\n",
    "b) Determine the class membership by k-nearest neighbors"
   ]
  },
  {
   "cell_type": "markdown",
   "id": "fc22b477",
   "metadata": {},
   "source": [
    "**Information:**\n",
    "We use the library sklearn.neighbors to execute an example of this classification algorithm.\n",
    "\n",
    "The algorithm k-NN is implemented in a package called **neighbors**.\n",
    "Here are the main commands:\n",
    "- The line **clf = neighbors.KNeighborsClassifier(n_neighbors)** creates an object of type classifier based on the n_neighbors closest neighbors,\n",
    "- The instruction clf.fit(X, y) uses the data to define the classifier (training),\n",
    "- The command **clf.predict()** is used to classify the new examples,\n",
    "- The command **clf.predict_proba()** allows to estimate the probability of the proposed classification,\n",
    "- The command **clf.score(xtest, ytest)** computes the global score of the classifier for a given dataset.\n",
    "\n",
    "<img src=\"https://miro.medium.com/v2/resize:fit:488/1*9h-WczF6csbeut5vsvjSUA.gif\" alt=\"k-NN example\" />\n",
    "\n",
    "KNeighborsClassifier takes as argument *metrics* which can be:\n",
    "- a string with the distance name: default='minkowski'\n",
    "- a callable function taking as input 2 arrays representing 1D vectors and returning one value indicating the distance between those vectors. **Use this option with the DTW function you implemented.**"
   ]
  },
  {
   "cell_type": "code",
   "execution_count": 9,
   "id": "b17008b6",
   "metadata": {},
   "outputs": [
    {
     "data": {
      "image/png": "[encoded data removed]",
      "text/plain": [
       "<Figure size 640x480 with 1 Axes>"
      ]
     },
     "metadata": {},
     "output_type": "display_data"
    },
    {
     "name": "stdout",
     "output_type": "stream",
     "text": [
      "entrainement terminé\n",
      "0.575\n",
      "fini!\n"
     ]
    }
   ],
   "source": [
    "\n",
    "\n",
    "k=5\n",
    "size=200\n",
    "\n",
    "def local_dist(a,b):\n",
    "    return(abs(a-b))\n",
    "\n",
    "def dtw_new(data_a,data_b):\n",
    "    return(dtw(local_dist,data_a,data_b,[1,1,1,5]))\n",
    "\n",
    "\n",
    "clf=neighbors.KNeighborsClassifier(n_neighbors=k,metric=dtw_new)\n",
    "\n",
    "# test sur les données de l'accéléromètre de la cheville\n",
    "\n",
    "sample_indices=np.random.randint(len(DataAnkleAcc),size=size)\n",
    "sample_data = DataAnkleAcc[sample_indices]\n",
    "sample_labels = labels[sample_indices]\n",
    "\n",
    "Liste_Base_train, Liste_Base_test, y_train, y_test = train_test_split(sample_data,sample_labels, test_size=0.20, random_state=42)\n",
    "\n",
    "# Repartition of data by class\n",
    "plt.hist(y_train,bins=16)\n",
    "plt.xlabel('Differentes activites')\n",
    "plt.ylabel('Nombre de donnees')\n",
    "plt.show()\n",
    "\n",
    "clf.fit(Liste_Base_train[:,:,0],y_train) # première dimension (datas en 3D)\n",
    "print('entrainement terminé')\n",
    "score=clf.score(Liste_Base_test[:,:,0],y_test)\n",
    "print(\"score: \"+ str(score))\n",
    "print('fini!')"
   ]
  },
  {
   "cell_type": "markdown",
   "id": "fc297003",
   "metadata": {},
   "source": [
    "## **Evaluation:** \n",
    "From the prediction on the test set obtained after DTW, compute the confusion matrix that counts the number of well-ranked and poorly-ranked data.\n",
    "\n",
    "Analyse the results (accuracy, execution time, ...)"
   ]
  },
  {
   "cell_type": "code",
   "execution_count": 12,
   "id": "970ad445",
   "metadata": {},
   "outputs": [
    {
     "name": "stdout",
     "output_type": "stream",
     "text": [
      "k = 5, size = 200\n"
     ]
    },
    {
     "data": {
      "image/png": "[encoded data removed]",
      "text/plain": [
       "<Figure size 640x480 with 1 Axes>"
      ]
     },
     "metadata": {},
     "output_type": "display_data"
    },
    {
     "name": "stdout",
     "output_type": "stream",
     "text": [
      "entrainement terminé\n",
      "Matrice de confusion par DTW :\n",
      "[[2 0 0 0 0 0 0 0]\n",
      " [0 2 1 0 0 0 0 0]\n",
      " [0 7 3 0 0 0 0 1]\n",
      " [0 0 0 9 0 1 0 0]\n",
      " [0 0 1 0 0 0 1 0]\n",
      " [0 0 0 3 0 1 0 0]\n",
      " [0 0 0 0 0 0 0 2]\n",
      " [0 2 2 0 0 0 0 2]]\n",
      "Score de classification : 0.475\n"
     ]
    }
   ],
   "source": [
    "\n",
    "# Evaluation des résultats par matrices de confusion \n",
    "from sklearn.metrics import accuracy_score\n",
    "from sklearn.metrics import confusion_matrix\n",
    "\n",
    "k=5\n",
    "size=200\n",
    "\n",
    "print(\"k = {}, size = {}\".format(k,size))\n",
    "\n",
    "clf=neighbors.KNeighborsClassifier(n_neighbors=k,metric=dtw_new)\n",
    "\n",
    "# test sur les données de l'accéléromètre de la cheville\n",
    "sample_indices=np.random.randint(len(DataAnkleAcc),size=size)\n",
    "sample_data = DataAnkleAcc[sample_indices]\n",
    "sample_labels = labels[sample_indices]\n",
    "\n",
    "Liste_Base_train, Liste_Base_test, y_train, y_test = train_test_split(sample_data,sample_labels, test_size=0.20, random_state=42)\n",
    "\n",
    "# Repartition of data by class\n",
    "plt.hist(y_train,bins=16)\n",
    "plt.xlabel('Differentes activites')\n",
    "plt.ylabel('Nombre de donnees')\n",
    "plt.show()\n",
    "\n",
    "\n",
    "clf.fit(Liste_Base_train[:,:,0],y_train) # première dimension (datas en 3D)\n",
    "print('entrainement terminé')\n",
    "\n",
    "predictions=clf.predict(Liste_Base_test[:,:,0]) # juste la première dimension \n",
    "matrice=confusion_matrix(y_test,predictions)\n",
    "\n",
    "print('Matrice de confusion par DTW :')\n",
    "print(matrice)\n",
    "\n",
    "score_5_200=accuracy_score(y_test,predictions)\n",
    "# Score de performance\n",
    "print('Score de classification : '+str(score_5_200))\n",
    "#print('Accuracy sur base de test :',accuracy_score(PartitionDTW[:,0],PartitionDTW[:,1]))"
   ]
  },
  {
   "cell_type": "code",
   "execution_count": 13,
   "id": "8d09b80a",
   "metadata": {},
   "outputs": [
    {
     "name": "stdout",
     "output_type": "stream",
     "text": [
      "k = 5, size = 500\n"
     ]
    },
    {
     "data": {
      "image/png": "[encoded data removed]",
      "text/plain": [
       "<Figure size 640x480 with 1 Axes>"
      ]
     },
     "metadata": {},
     "output_type": "display_data"
    },
    {
     "name": "stdout",
     "output_type": "stream",
     "text": [
      "entrainement terminé\n",
      "Matrice de confusion par DTW :\n",
      "[[ 6  1  1  0  0  0  0  0]\n",
      " [ 1  5  1  0  0  0  0  0]\n",
      " [ 0  9  5  0  0  0  0  1]\n",
      " [ 0  1  0 12  0  3  0  1]\n",
      " [ 0  0  2  0  6  0  0  0]\n",
      " [ 0  0  1  3  0 13  0  2]\n",
      " [ 0  0  3  0  0  0  4  5]\n",
      " [ 0  4  4  0  0  0  0  6]]\n",
      "Score de classification : 0.57\n"
     ]
    }
   ],
   "source": [
    "k=5\n",
    "size=500\n",
    "\n",
    "print(\"k = {}, size = {}\".format(k,size))\n",
    "\n",
    "clf=neighbors.KNeighborsClassifier(n_neighbors=k,metric=dtw_new)\n",
    "\n",
    "# test sur les données de l'accéléromètre de la cheville\n",
    "sample_indices=np.random.randint(len(DataAnkleAcc),size=size)\n",
    "sample_data = DataAnkleAcc[sample_indices]\n",
    "sample_labels = labels[sample_indices]\n",
    "\n",
    "Liste_Base_train, Liste_Base_test, y_train, y_test = train_test_split(sample_data,sample_labels, test_size=0.20, random_state=42)\n",
    "\n",
    "# Repartition of data by class\n",
    "plt.hist(y_train,bins=16)\n",
    "plt.xlabel('Differentes activites')\n",
    "plt.ylabel('Nombre de donnees')\n",
    "plt.show()\n",
    "\n",
    "\n",
    "clf.fit(Liste_Base_train[:,:,0],y_train) # première dimension (datas en 3D)\n",
    "print('entrainement terminé')\n",
    "\n",
    "predictions=clf.predict(Liste_Base_test[:,:,0]) # juste la première dimension \n",
    "matrice=confusion_matrix(y_test,predictions)\n",
    "\n",
    "print('Matrice de confusion par DTW :')\n",
    "print(matrice)\n",
    "\n",
    "score_5_500=accuracy_score(y_test,predictions)\n",
    "# Score de performance\n",
    "print('Score de classification : '+str(score_5_500))\n",
    "#print('Accuracy sur base de test :',accuracy_score(PartitionDTW[:,0],PartitionDTW[:,1]))"
   ]
  },
  {
   "cell_type": "code",
   "execution_count": 18,
   "id": "a4f3b82e",
   "metadata": {},
   "outputs": [
    {
     "name": "stdout",
     "output_type": "stream",
     "text": [
      "k = 10, size = 200\n"
     ]
    },
    {
     "data": {
      "image/png": "[encoded data removed]",
      "text/plain": [
       "<Figure size 640x480 with 1 Axes>"
      ]
     },
     "metadata": {},
     "output_type": "display_data"
    },
    {
     "name": "stdout",
     "output_type": "stream",
     "text": [
      "entrainement terminé\n",
      "Matrice de confusion par DTW :\n",
      "[[6 0 0 0 0 0 0 0]\n",
      " [0 1 4 0 0 0 0 0]\n",
      " [0 1 2 0 0 0 0 2]\n",
      " [0 0 0 6 0 1 1 0]\n",
      " [0 0 0 0 3 0 0 0]\n",
      " [0 1 0 1 0 0 0 0]\n",
      " [0 0 0 0 0 0 1 3]\n",
      " [0 3 0 0 0 0 0 4]]\n",
      "Score de classification : 0.575\n"
     ]
    }
   ],
   "source": [
    "k=10\n",
    "size=200\n",
    "\n",
    "print(\"k = {}, size = {}\".format(k,size))\n",
    "\n",
    "clf=neighbors.KNeighborsClassifier(n_neighbors=k,metric=dtw_new)\n",
    "\n",
    "# test sur les données de l'accéléromètre de la cheville\n",
    "sample_indices=np.random.randint(len(DataAnkleAcc),size=size)\n",
    "sample_data = DataAnkleAcc[sample_indices]\n",
    "sample_labels = labels[sample_indices]\n",
    "\n",
    "Liste_Base_train, Liste_Base_test, y_train, y_test = train_test_split(sample_data,sample_labels, test_size=0.20, random_state=42)\n",
    "\n",
    "# Repartition of data by class\n",
    "plt.hist(y_train,bins=16)\n",
    "plt.xlabel('Differentes activites')\n",
    "plt.ylabel('Nombre de donnees')\n",
    "plt.show()\n",
    "\n",
    "\n",
    "clf.fit(Liste_Base_train[:,:,0],y_train) # première dimension (datas en 3D)\n",
    "print('entrainement terminé')\n",
    "\n",
    "predictions=clf.predict(Liste_Base_test[:,:,0]) # juste la première dimension \n",
    "matrice=confusion_matrix(y_test,predictions)\n",
    "\n",
    "print('Matrice de confusion par DTW :')\n",
    "print(matrice)\n",
    "\n",
    "score_10_200=accuracy_score(y_test,predictions)\n",
    "# Score de performance\n",
    "print('Score de classification : '+str(score_10_200))\n",
    "#print('Accuracy sur base de test :',accuracy_score(PartitionDTW[:,0],PartitionDTW[:,1]))"
   ]
  },
  {
   "cell_type": "code",
   "execution_count": 19,
   "id": "940004a6",
   "metadata": {},
   "outputs": [
    {
     "name": "stdout",
     "output_type": "stream",
     "text": [
      "k = 10, size = 500\n"
     ]
    },
    {
     "data": {
      "image/png": "[encoded data removed]",
      "text/plain": [
       "<Figure size 640x480 with 1 Axes>"
      ]
     },
     "metadata": {},
     "output_type": "display_data"
    },
    {
     "name": "stdout",
     "output_type": "stream",
     "text": [
      "entrainement terminé\n",
      "Matrice de confusion par DTW :\n",
      "[[ 7  0  0  0  0  0  0  0]\n",
      " [ 0  3  0  0  0  0  0  2]\n",
      " [ 0  9  4  0  0  0  0  4]\n",
      " [ 0  0  0 16  0  3  0  0]\n",
      " [ 0  0  0  0  4  0  2  0]\n",
      " [ 0  0  0  6  0  9  0  0]\n",
      " [ 0  1  1  0  0  0  6  4]\n",
      " [ 0  5 11  0  0  0  0  3]]\n",
      "Score de classification : 0.52\n"
     ]
    }
   ],
   "source": [
    "k=10\n",
    "size=500\n",
    "\n",
    "print(\"k = {}, size = {}\".format(k,size))\n",
    "\n",
    "clf=neighbors.KNeighborsClassifier(n_neighbors=k,metric=dtw_new)\n",
    "\n",
    "# test sur les données de l'accéléromètre de la cheville\n",
    "sample_indices=np.random.randint(len(DataAnkleAcc),size=size)\n",
    "sample_data = DataAnkleAcc[sample_indices]\n",
    "sample_labels = labels[sample_indices]\n",
    "\n",
    "Liste_Base_train, Liste_Base_test, y_train, y_test = train_test_split(sample_data,sample_labels, test_size=0.20, random_state=42)\n",
    "\n",
    "# Repartition of data by class\n",
    "plt.hist(y_train,bins=16)\n",
    "plt.xlabel('Differentes activites')\n",
    "plt.ylabel('Nombre de donnees')\n",
    "plt.show()\n",
    "\n",
    "\n",
    "clf.fit(Liste_Base_train[:,:,0],y_train) # première dimension (datas en 3D)\n",
    "print('entrainement terminé')\n",
    "\n",
    "predictions=clf.predict(Liste_Base_test[:,:,0]) # juste la première dimension \n",
    "matrice=confusion_matrix(y_test,predictions)\n",
    "\n",
    "print('Matrice de confusion par DTW :')\n",
    "print(matrice)\n",
    "\n",
    "score_10_500=accuracy_score(y_test,predictions)\n",
    "# Score de performance\n",
    "print('Score de classification : '+str(score_10_500))\n",
    "#print('Accuracy sur base de test :',accuracy_score(PartitionDTW[:,0],PartitionDTW[:,1]))"
   ]
  },
  {
   "cell_type": "code",
   "execution_count": 20,
   "id": "e3241c5e",
   "metadata": {},
   "outputs": [
    {
     "name": "stdout",
     "output_type": "stream",
     "text": [
      "k = 15, size = 200\n"
     ]
    },
    {
     "data": {
      "image/png": "[encoded data removed]",
      "text/plain": [
       "<Figure size 640x480 with 1 Axes>"
      ]
     },
     "metadata": {},
     "output_type": "display_data"
    },
    {
     "name": "stdout",
     "output_type": "stream",
     "text": [
      "entrainement terminé\n",
      "Matrice de confusion par DTW :\n",
      "[[3 0 0 0 0 0 0 1]\n",
      " [1 1 2 0 0 0 0 0]\n",
      " [0 2 4 0 0 0 0 2]\n",
      " [0 0 0 5 0 3 0 0]\n",
      " [0 0 0 0 2 0 3 0]\n",
      " [0 0 0 4 0 1 0 0]\n",
      " [0 0 0 0 0 0 0 2]\n",
      " [0 1 3 0 0 0 0 0]]\n",
      "Score de classification : 0.4\n"
     ]
    }
   ],
   "source": [
    "k=15\n",
    "size=200\n",
    "\n",
    "print(\"k = {}, size = {}\".format(k,size))\n",
    "\n",
    "clf=neighbors.KNeighborsClassifier(n_neighbors=k,metric=dtw_new)\n",
    "\n",
    "# test sur les données de l'accéléromètre de la cheville\n",
    "sample_indices=np.random.randint(len(DataAnkleAcc),size=size)\n",
    "sample_data = DataAnkleAcc[sample_indices]\n",
    "sample_labels = labels[sample_indices]\n",
    "\n",
    "Liste_Base_train, Liste_Base_test, y_train, y_test = train_test_split(sample_data,sample_labels, test_size=0.20, random_state=42)\n",
    "\n",
    "# Repartition of data by class\n",
    "plt.hist(y_train,bins=16)\n",
    "plt.xlabel('Differentes activites')\n",
    "plt.ylabel('Nombre de donnees')\n",
    "plt.show()\n",
    "\n",
    "\n",
    "clf.fit(Liste_Base_train[:,:,0],y_train) # première dimension (datas en 3D)\n",
    "print('entrainement terminé')\n",
    "\n",
    "predictions=clf.predict(Liste_Base_test[:,:,0]) # juste la première dimension \n",
    "matrice=confusion_matrix(y_test,predictions)\n",
    "\n",
    "print('Matrice de confusion par DTW :')\n",
    "print(matrice)\n",
    "\n",
    "score_15_200=accuracy_score(y_test,predictions)\n",
    "# Score de performance\n",
    "print('Score de classification : '+str(score_15_200))\n",
    "#print('Accuracy sur base de test :',accuracy_score(PartitionDTW[:,0],PartitionDTW[:,1]))"
   ]
  },
  {
   "cell_type": "code",
   "execution_count": 24,
   "id": "0c734a35",
   "metadata": {},
   "outputs": [
    {
     "name": "stdout",
     "output_type": "stream",
     "text": [
      "modèle 0\n",
      "k: 5, nombre d'échantillons: 200, score: 0.475, temps de compilation: 1min6\n",
      "\n",
      "modèle 1\n",
      "k: 5, nombre d'échantillons: 500, score: 0.57, temps de compilation: 6min48\n",
      "\n",
      "modèle 2\n",
      "k: 10, nombre d'échantillons: 200, score: 0.575, temps de compilation: 1min10\n",
      "\n",
      "modèle 3\n",
      "k: 10, nombre d'échantillons: 500, score: 0.52, temps de compilation: 6min28\n",
      "\n",
      "modèle 4\n",
      "k: 15, nombre d'échantillons: 200, score: 0.4, temps de compilation: 1min2\n",
      "\n"
     ]
    }
   ],
   "source": [
    "recap=[[5,200,score_5_200,\"1min6\"],[5,500,score_5_500,\"6min48\"],[10,200,score_10_200,\"1min10\"],[10,500,score_10_500,\"6min28\"],[15,200,score_15_200,\"1min2\"]]\n",
    "\n",
    "nb=0\n",
    "for model in recap:\n",
    "    print(\"modèle {}\".format(nb))\n",
    "    nb+=1\n",
    "    print(\"k: {}, nombre d'échantillons: {}, score: {}, temps de compilation: {}\\n\".format(model[0],model[1],model[2],model[3]))"
   ]
  },
  {
   "cell_type": "markdown",
   "id": "f8e8543d",
   "metadata": {},
   "source": [
    "## Interprétation \n",
    "\n",
    "Nos modèles donnent de pauvres résultats, ce qui n'est pas étonnant vu que l'on ne considère qu'une seule dimension d'un seul capteur. Considérant cela, tourner autour de 50% de précision peut même être considéré comme relativement correct. De plus, on peut varier le nombre d'échantillons et le k pour améliorer la précision. La meilleure valeur de k dans notre exemple est autour de 10. Quant à la taille de l'échantillon, il est efficace de l'augmenter pour un petit k, mais cela perd en intérêt quand k augmente. De plus, les temps de compilation sont nettement plus longs quand on considère plus d'échantillons, ce qui est à considérer. \n",
    "\n",
    "Lors de tests plus exhaustifs, on pourrait tenter de trouver la taille d'échantillon optimal pour un k fixe.\n",
    "\n",
    "Enfin, avec plus de capacité de calcul et de temps, nous aurions pu exécuter cet algorithme sur l'intégralité du dataset et avec davantage de capteurs, ce qui aurait probablement donné de bien meilleurs résultats. "
   ]
  },
  {
   "cell_type": "markdown",
   "id": "c0d70e84",
   "metadata": {},
   "source": [
    "# BONUS #\n",
    "# Part II: Comparison of dynamic programming with a neural network classification method after PCA dimension reduction\n",
    "\n",
    "In this section, we will compare the results of DTW with those of a data classification method: neural networks (Multi-Layer Perceptron).\n",
    "\n",
    "We'll be using the functions for calculating PCA and MLPClassifier via the *scikit-learn* python library."
   ]
  },
  {
   "cell_type": "code",
   "execution_count": null,
   "id": "613b4dac",
   "metadata": {},
   "outputs": [],
   "source": [
    "import sklearn\n",
    "from sklearn.preprocessing import StandardScaler\n",
    "from sklearn.neighbors import KNeighborsClassifier\n",
    "from mpl_toolkits.mplot3d import Axes3D\n",
    "from sklearn.decomposition import PCA"
   ]
  },
  {
   "cell_type": "markdown",
   "id": "5b33eb99",
   "metadata": {},
   "source": [
    "### PCA pre-processing\n",
    "\n",
    "\n",
    "To test another classification method, \n",
    "\n",
    "\n",
    "1. From the Data_App data in the training database, and using the *PCA* function in the *scikit-learn* library, calculate the $p$ principal axes of the PCA by\n",
    "extracting the $p$ eigenvectors, denoted $X_1$, $X_2$,..., $X_p$, associated with the $p$ largest eigenvalues of the variance-covariance matrix\n",
    "variance-covariance matrix $\\Sigma_{App}$. These eigenvectors will form the new database.\n",
    "\n",
    "\n",
    "2. Project the data from the training and test database into this new database by multiplying each vector\n",
    "vector by the base $P = [X_1X_2...X_p]$.\n",
    "\n",
    "\n",
    "*Note:* you can also implement PCA by extracting the\n",
    "extracting the $p$ eigenvectors, denoted $X_1$, $X_2$,... $X_p$, associated with the $p$ largest eigenvalues of the\n",
    "variance-covariance matrix $\\Sigma_{App}$ (by the functions *np.cov* and *np.linalg.eig*). These eigenvectors will form the new frame P. Then project the data from the training and test frames into this new frame by multiplying each vector by the frame $P = [X_1X_2..X_p]$."
   ]
  },
  {
   "cell_type": "code",
   "execution_count": null,
   "id": "871f3d7b",
   "metadata": {},
   "outputs": [],
   "source": [
    "# TODO"
   ]
  },
  {
   "cell_type": "markdown",
   "id": "27000e5e",
   "metadata": {},
   "source": [
    "### Classification using neural networks\n",
    "1. Classification using neural networks\n",
    "2. Evaluate results using confusion matrix, loss function, etc.\n",
    "3. Test different architectures and solvers: train on the training set and compute score on the test set\n",
    "\n",
    "Analyse the results (accuracy, execution time, ...)"
   ]
  },
  {
   "cell_type": "markdown",
   "id": "99145ad3",
   "metadata": {},
   "source": [
    "We will use the library **sklearn.model_selection** to develop ANN of type Multi Layer Perceptron (MLP). We use the class: MLPClassifier.\n",
    "\n",
    "<img src=\"https://rasbt.github.io/mlxtend/user_guide/classifier/NeuralNetMLP_files/neuralnet_mlp_1.png\" alt=\"MLP example\" />\n",
    "\n",
    "This model optimizes the cross entropy function (loss function) and a gradient based method.\n",
    "The main parameters of this class are:\n",
    "- **hidden_layer_sizes** is a tuple that specifies the number of neurons in each hidden layer; from the entrance to the exit. For example, a unique hidden layer of 55 neurons, hidden_layer_sizes = (55); for three hidden layers of size respectively 50, 12 and 100 neurons, hidden_layer_sizes = (50, 12, 100).\n",
    "- **activation** defines the activation function for hidden layers: {\"identity\", \"logistic\", \"tanh\", \"relu\"}, default \"relu\"\n",
    "    - ‘identity’, no-op activation, linear bottleneck, returns f(x) = x\n",
    "    - ‘logistic’, logistic sigmoid function, returns f(x) = 1 / (1 + exp(-x)).\n",
    "    - ‘tanh’, hyperbolic tan function, returns f(x) = tanh(x).\n",
    "    - ‘relu’, rectified linear unit function, returns f(x) = max(0, x)\n",
    "- **solver** {\"lbfgs\", \"sgd\", \"adam\"} specifies the algorithm used to minimize the output loss function. \"Adam\" is implemented by default for large databases. For small databases, ‘lbfgs’ may converge better.\n",
    "- **alpha** default value=0.0001: is the magnitude of the L2 regularization. It is a method of regulation (to prevent overfitting) whose purpose is to penalize heavy weights. We add the penalty to the cost function.\n",
    "- **max iter**, default =200, indicates the max number of iterations of the solver.\n",
    "- **tol** , default 1e-4: is a tolerance factor that allows the solver to be stopped early when there is no improvement.\n",
    "- **Verbose** bool, default=’False’ : change to “True” to print progress messages to stdout.\n",
    "- **warm_start** bool, default=’False’: When set to True, reuse the solution of the previous call to fit as initialization, otherwise, just erase the previous solution.\n",
    "- **early_stopping** bool, default=’False’: Whether to use early stopping to terminate training when validation score is not improving (prevent overfitting). If set to true, it will automatically set aside 10% of training data as validation and terminate training when validation score is not improving by at least tol for n_iter_no_change consecutive epochs. The split is stratified, except in a multilabel setting. If early stopping is False, then the training stops when the training loss does not improve by more than tol for n_iter_no_change consecutive passes over the training set. Only effective when solver=’sgd’ or ‘adam’.\n",
    "- **validation_fraction** float, default=0.1 The proportion of training data to set aside as validation set for early stopping. Must be between 0 and 1. Only used if early_stopping is True.\n",
    "- **n_iter_no_change** int, default=10: Maximum number of epochs to not meet tol improvement. Only effective when solver=’sgd’ or ‘adam’.\n",
    "\n",
    "The main commands are:\n",
    "- mlp = MLPClassifier(hidden_layer_sizes=(20, 20, 10,), max_iter=300, activation='relu', solver='adam', random_state=42)\n",
    "- mlp.fit(xtrain, ytrain)\n",
    "- ypred = mlp.predict(xtest)\n",
    "\n",
    "Accuracy of the model can eventually be computed using the library **sklearn.metrics** and the commands:\n",
    "- Score: accuracy_score(y_test, y_pred)\n",
    "- Report: classification_report(y_test, y_pred))\n",
    "\n",
    "The usual sklearn learning and testing functions are as follows: (**fit**, **predict**, **score**)."
   ]
  },
  {
   "cell_type": "code",
   "execution_count": 5,
   "id": "4294f0ff",
   "metadata": {},
   "outputs": [],
   "source": [
    "from sklearn.neural_network import MLPClassifier"
   ]
  },
  {
   "cell_type": "code",
   "execution_count": null,
   "id": "86309020",
   "metadata": {},
   "outputs": [],
   "source": [
    "# TODO"
   ]
  },
  {
   "cell_type": "markdown",
   "id": "6ce0f1a6",
   "metadata": {},
   "source": []
  },
  {
   "cell_type": "markdown",
   "id": "383dba78",
   "metadata": {},
   "source": []
  },
  {
   "cell_type": "markdown",
   "id": "35ca0e1b",
   "metadata": {},
   "source": []
  },
  {
   "cell_type": "markdown",
   "id": "db991ee5",
   "metadata": {},
   "source": [
    "# Partie III (Bonus): reduction of the training basis by k-medoids to optimize classification by k-NN with DTW as similarity measure\n",
    "\n",
    "For each class of activity\n",
    "a) Compute medoids using *k-medoids* from the scikit-learn library with DTW as similarity measure.\n",
    "\n",
    "b) Vary the parameter k and observe the evolution of the *silhouette score*: select the best by the elbow method\n",
    "\n",
    "c) Replace the samples with the medoids found from the best k parameter\n",
    "\n",
    "Finally, run the k-NN algorithm for classification and evaluate as before: the only change is that your training set has been replaced"
   ]
  },
  {
   "cell_type": "markdown",
   "id": "5fc251d7",
   "metadata": {},
   "source": [
    "**Information:**\n",
    "We use the KMedoids (kM) method: this is an unsupervised approach which clusters your data in k groups such that a similarity measure is:\n",
    "- minimized inside each group\n",
    "- maximized inside between groups\n",
    "We obtain for each group a centroid (or medoid) which is at the center and thus represents best the group (w.r.t. the similarity measure).\n",
    "\n",
    "The algorithm kM is implemented in a package called **sklearn_extra.cluster**.\n",
    "Here are the main commands:\n",
    "- The line **clf = sklearn_extra.cluster.KMedoids(n_clusters=k)** creates an object of type classifier based on the n_neighbors closest neighbors,\n",
    "- The instruction clf.fit(X, y) uses the data to define the classifier (training),\n",
    "- The command **clf.predict()** is used to classify the new examples,\n",
    "- The command **clf.predict_proba()** allows to estimate the probability of the proposed classification,\n",
    "- The command **clf.score(xtest, ytest)** computes the global score of the classifier for a given dataset.\n",
    "\n",
    "<img src=\"https://scikit-learn-extra.readthedocs.io/en/stable/_images/sphx_glr_plot_kmedoids_digits_001.png\" alt=\"k-Medoids example\" />\n",
    "\n",
    "KMedoids takes as argument *metrics* which can be your DTW function.\n",
    "\n",
    "The silhouette score is then a measure of the quality of your clustering, and is implemented as the function silhouette_score in a package called **sklearn.metrics**."
   ]
  },
  {
   "cell_type": "code",
   "execution_count": null,
   "id": "31be8c18",
   "metadata": {},
   "outputs": [],
   "source": [
    "# TODO (Bonus)"
   ]
  }
 ],
 "metadata": {
  "kernelspec": {
   "display_name": "Python 3.7.13 ('IA-GPU')",
   "language": "python",
   "name": "python3"
  },
  "language_info": {
   "codemirror_mode": {
    "name": "ipython",
    "version": 3
   },
   "file_extension": ".py",
   "mimetype": "text/x-python",
   "name": "python",
   "nbconvert_exporter": "python",
   "pygments_lexer": "ipython3",
   "version": "3.8.5"
  },
  "vscode": {
   "interpreter": {
    "hash": "d7767fc01900d03e17673bebce605e2fa400819868c3e1968e17384998a98356"
   }
  }
 },
 "nbformat": 4,
 "nbformat_minor": 5
}
